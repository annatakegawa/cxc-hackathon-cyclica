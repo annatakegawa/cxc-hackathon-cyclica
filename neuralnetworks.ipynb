{
 "cells": [
  {
   "cell_type": "code",
   "execution_count": 1,
   "id": "91c68aa9-eed7-42c6-b9a8-49df2e0d9f22",
   "metadata": {},
   "outputs": [],
   "source": [
    "import matplotlib.pyplot as plt\n",
    "import numpy as np\n",
    "import pandas as pd\n",
    "import tensorflow as tf\n",
    "from tensorflow import keras\n",
    "from sklearn.model_selection import train_test_split\n",
    "from sklearn.preprocessing import StandardScaler\n",
    "from keras.models import Sequential\n",
    "from keras.layers import Dense\n",
    "from keras.metrics import Precision, Recall\n",
    "import datetime\n",
    "%load_ext tensorboard"
   ]
  },
  {
   "cell_type": "markdown",
   "id": "9960ec10-2178-469a-a2e4-10340d9134aa",
   "metadata": {
    "tags": []
   },
   "source": [
    "## Data Preprocessing"
   ]
  },
  {
   "cell_type": "code",
   "execution_count": 3,
   "id": "a0227361-5e65-47b9-9ff2-2aae3a7322b7",
   "metadata": {},
   "outputs": [
    {
     "data": {
      "text/html": [
       "<div>\n",
       "<style scoped>\n",
       "    .dataframe tbody tr th:only-of-type {\n",
       "        vertical-align: middle;\n",
       "    }\n",
       "\n",
       "    .dataframe tbody tr th {\n",
       "        vertical-align: top;\n",
       "    }\n",
       "\n",
       "    .dataframe thead th {\n",
       "        text-align: right;\n",
       "    }\n",
       "</style>\n",
       "<table border=\"1\" class=\"dataframe\">\n",
       "  <thead>\n",
       "    <tr style=\"text-align: right;\">\n",
       "      <th></th>\n",
       "      <th>annotation_sequence</th>\n",
       "      <th>feat_A</th>\n",
       "      <th>feat_C</th>\n",
       "      <th>feat_D</th>\n",
       "      <th>feat_E</th>\n",
       "      <th>feat_F</th>\n",
       "      <th>feat_G</th>\n",
       "      <th>feat_H</th>\n",
       "      <th>feat_I</th>\n",
       "      <th>feat_K</th>\n",
       "      <th>...</th>\n",
       "      <th>feat_DSSP_10</th>\n",
       "      <th>feat_DSSP_11</th>\n",
       "      <th>feat_DSSP_12</th>\n",
       "      <th>feat_DSSP_13</th>\n",
       "      <th>coord_X</th>\n",
       "      <th>coord_Y</th>\n",
       "      <th>coord_Z</th>\n",
       "      <th>entry</th>\n",
       "      <th>entry_index</th>\n",
       "      <th>y_Ligand</th>\n",
       "    </tr>\n",
       "  </thead>\n",
       "  <tbody>\n",
       "    <tr>\n",
       "      <th>0</th>\n",
       "      <td>M</td>\n",
       "      <td>False</td>\n",
       "      <td>False</td>\n",
       "      <td>False</td>\n",
       "      <td>False</td>\n",
       "      <td>False</td>\n",
       "      <td>False</td>\n",
       "      <td>False</td>\n",
       "      <td>False</td>\n",
       "      <td>False</td>\n",
       "      <td>...</td>\n",
       "      <td>0</td>\n",
       "      <td>0.0</td>\n",
       "      <td>47</td>\n",
       "      <td>-0.0</td>\n",
       "      <td>-26.499001</td>\n",
       "      <td>-4.742</td>\n",
       "      <td>-35.189999</td>\n",
       "      <td>GEMI5_HUMAN</td>\n",
       "      <td>0</td>\n",
       "      <td>False</td>\n",
       "    </tr>\n",
       "    <tr>\n",
       "      <th>1</th>\n",
       "      <td>G</td>\n",
       "      <td>False</td>\n",
       "      <td>False</td>\n",
       "      <td>False</td>\n",
       "      <td>False</td>\n",
       "      <td>False</td>\n",
       "      <td>True</td>\n",
       "      <td>False</td>\n",
       "      <td>False</td>\n",
       "      <td>False</td>\n",
       "      <td>...</td>\n",
       "      <td>0</td>\n",
       "      <td>0.0</td>\n",
       "      <td>0</td>\n",
       "      <td>0.0</td>\n",
       "      <td>-25.158001</td>\n",
       "      <td>-1.342</td>\n",
       "      <td>-34.104000</td>\n",
       "      <td>GEMI5_HUMAN</td>\n",
       "      <td>1</td>\n",
       "      <td>False</td>\n",
       "    </tr>\n",
       "    <tr>\n",
       "      <th>2</th>\n",
       "      <td>Q</td>\n",
       "      <td>False</td>\n",
       "      <td>False</td>\n",
       "      <td>False</td>\n",
       "      <td>False</td>\n",
       "      <td>False</td>\n",
       "      <td>False</td>\n",
       "      <td>False</td>\n",
       "      <td>False</td>\n",
       "      <td>False</td>\n",
       "      <td>...</td>\n",
       "      <td>1</td>\n",
       "      <td>-0.0</td>\n",
       "      <td>-1</td>\n",
       "      <td>-0.0</td>\n",
       "      <td>-21.926001</td>\n",
       "      <td>-1.641</td>\n",
       "      <td>-32.175999</td>\n",
       "      <td>GEMI5_HUMAN</td>\n",
       "      <td>2</td>\n",
       "      <td>False</td>\n",
       "    </tr>\n",
       "    <tr>\n",
       "      <th>3</th>\n",
       "      <td>E</td>\n",
       "      <td>False</td>\n",
       "      <td>False</td>\n",
       "      <td>False</td>\n",
       "      <td>True</td>\n",
       "      <td>False</td>\n",
       "      <td>False</td>\n",
       "      <td>False</td>\n",
       "      <td>False</td>\n",
       "      <td>False</td>\n",
       "      <td>...</td>\n",
       "      <td>706</td>\n",
       "      <td>-0.1</td>\n",
       "      <td>705</td>\n",
       "      <td>-0.0</td>\n",
       "      <td>-22.073999</td>\n",
       "      <td>0.654</td>\n",
       "      <td>-29.171000</td>\n",
       "      <td>GEMI5_HUMAN</td>\n",
       "      <td>3</td>\n",
       "      <td>False</td>\n",
       "    </tr>\n",
       "    <tr>\n",
       "      <th>4</th>\n",
       "      <td>P</td>\n",
       "      <td>False</td>\n",
       "      <td>False</td>\n",
       "      <td>False</td>\n",
       "      <td>False</td>\n",
       "      <td>False</td>\n",
       "      <td>False</td>\n",
       "      <td>False</td>\n",
       "      <td>False</td>\n",
       "      <td>False</td>\n",
       "      <td>...</td>\n",
       "      <td>0</td>\n",
       "      <td>0.0</td>\n",
       "      <td>705</td>\n",
       "      <td>-0.2</td>\n",
       "      <td>-19.783001</td>\n",
       "      <td>2.670</td>\n",
       "      <td>-26.858999</td>\n",
       "      <td>GEMI5_HUMAN</td>\n",
       "      <td>4</td>\n",
       "      <td>False</td>\n",
       "    </tr>\n",
       "  </tbody>\n",
       "</table>\n",
       "<p>5 rows × 50 columns</p>\n",
       "</div>"
      ],
      "text/plain": [
       "  annotation_sequence  feat_A  feat_C  feat_D  feat_E  feat_F  feat_G  feat_H  \\\n",
       "0                   M   False   False   False   False   False   False   False   \n",
       "1                   G   False   False   False   False   False    True   False   \n",
       "2                   Q   False   False   False   False   False   False   False   \n",
       "3                   E   False   False   False    True   False   False   False   \n",
       "4                   P   False   False   False   False   False   False   False   \n",
       "\n",
       "   feat_I  feat_K  ...  feat_DSSP_10  feat_DSSP_11  feat_DSSP_12  \\\n",
       "0   False   False  ...             0           0.0            47   \n",
       "1   False   False  ...             0           0.0             0   \n",
       "2   False   False  ...             1          -0.0            -1   \n",
       "3   False   False  ...           706          -0.1           705   \n",
       "4   False   False  ...             0           0.0           705   \n",
       "\n",
       "   feat_DSSP_13    coord_X  coord_Y    coord_Z        entry  entry_index  \\\n",
       "0          -0.0 -26.499001   -4.742 -35.189999  GEMI5_HUMAN            0   \n",
       "1           0.0 -25.158001   -1.342 -34.104000  GEMI5_HUMAN            1   \n",
       "2          -0.0 -21.926001   -1.641 -32.175999  GEMI5_HUMAN            2   \n",
       "3          -0.0 -22.073999    0.654 -29.171000  GEMI5_HUMAN            3   \n",
       "4          -0.2 -19.783001    2.670 -26.858999  GEMI5_HUMAN            4   \n",
       "\n",
       "   y_Ligand  \n",
       "0     False  \n",
       "1     False  \n",
       "2     False  \n",
       "3     False  \n",
       "4     False  \n",
       "\n",
       "[5 rows x 50 columns]"
      ]
     },
     "execution_count": 3,
     "metadata": {},
     "output_type": "execute_result"
    }
   ],
   "source": [
    "raw_df = pd.read_csv(\"data/af2_dataset_training_labeled.csv.gz\", index_col=0)\n",
    "raw_df.head()"
   ]
  },
  {
   "cell_type": "code",
   "execution_count": 4,
   "id": "d1823b08-b3f1-46da-940a-5e59443c529c",
   "metadata": {},
   "outputs": [
    {
     "data": {
      "image/png": "[encoded data removed]",
      "text/plain": [
       "<Figure size 640x480 with 1 Axes>"
      ]
     },
     "metadata": {},
     "output_type": "display_data"
    }
   ],
   "source": [
    "counts = raw_df['y_Ligand'].value_counts() / len(raw_df)\n",
    "counts.plot.bar()\n",
    "plt.title('Percentage of binding and non-binding residue')\n",
    "plt.show()"
   ]
  },
  {
   "cell_type": "code",
   "execution_count": 5,
   "id": "b4e399c7-3ad2-44df-bab0-a6b17d825fe6",
   "metadata": {},
   "outputs": [
    {
     "name": "stdout",
     "output_type": "stream",
     "text": [
      "Total: 497166\n",
      " Positive: 17254 (3.47% of total)\n",
      "\n"
     ]
    }
   ],
   "source": [
    "# examine class imbalance\n",
    "neg, pos = np.bincount(raw_df['y_Ligand'])\n",
    "total = neg + pos\n",
    "print('Total: {}\\n Positive: {} ({:.2f}% of total)\\n'.format(total, pos, 100 * pos / total))"
   ]
  },
  {
   "cell_type": "code",
   "execution_count": 6,
   "id": "7929374a-c9d0-4ff1-bcea-6e73c768d845",
   "metadata": {},
   "outputs": [],
   "source": [
    "# clean dataset\n",
    "cleaned_df = raw_df.copy()\n",
    "\n",
    "# drop columns\n",
    "# - annotation_sequence: covered by feat_[letter]\n",
    "# - annotation_atomrec: don't know what exactly it is (almost same as annotation_sequence)\n",
    "# - entry: object type causes input type problem for the model (bring it back in by one-hot encoding or label encoding if necessary)\n",
    "cleaned_df.drop(['annotation_sequence', 'annotation_atomrec', 'entry'], axis=1, inplace=True)\n",
    "\n",
    "# convert boolean columns into integer\n",
    "cleaned_df[cleaned_df.select_dtypes(include='bool').columns] = cleaned_df.select_dtypes(include='bool').astype(int)"
   ]
  },
  {
   "cell_type": "code",
   "execution_count": 7,
   "id": "3f3cfcb1-7fe0-4376-be1c-39340da534ec",
   "metadata": {},
   "outputs": [],
   "source": [
    "# split dataset into training and validation\n",
    "train_df, test_df = train_test_split(cleaned_df, test_size=0.2)\n",
    "train_df, val_df = train_test_split(train_df, test_size=0.2)\n",
    "\n",
    "y_train = np.array(train_df.pop('y_Ligand'))\n",
    "bool_train_labels = y_train != 0\n",
    "y_val = np.array(val_df.pop('y_Ligand'))\n",
    "y_test = np.array(test_df.pop('y_Ligand'))\n",
    "\n",
    "x_train = np.array(train_df)\n",
    "x_val = np.array(val_df)\n",
    "x_test = np.array(test_df)"
   ]
  },
  {
   "cell_type": "code",
   "execution_count": 8,
   "id": "2fe2a890-6ddd-4337-8d58-08b442fcbf60",
   "metadata": {},
   "outputs": [],
   "source": [
    "# scaling\n",
    "scaler = StandardScaler()\n",
    "x_train = scaler.fit_transform(x_train)\n",
    "\n",
    "x_val = scaler.transform(x_val)\n",
    "x_test = scaler.transform(x_test)"
   ]
  },
  {
   "cell_type": "markdown",
   "id": "63551bfd-f816-4e8f-a0f2-b942943f10ee",
   "metadata": {
    "tags": []
   },
   "source": [
    "## Preparing for model training\n",
    "Code source: https://www.tensorflow.org/tensorboard/image_summaries"
   ]
  },
  {
   "cell_type": "code",
   "execution_count": 45,
   "id": "fc354609-23b7-49e8-a8cb-34e29557b34f",
   "metadata": {},
   "outputs": [],
   "source": [
    "# function to train model (create, compile, and fit with validation dataset)\n",
    "def train(model, x, y, x_val, y_val, lr, epochs, batchsz):\n",
    "    log_dir = \"logs/\" + model.name + \"/\" + datetime.datetime.now().strftime(\"%Y%m%d-%H%M%S\")\n",
    "    tensorboard_callback = tf.keras.callbacks.TensorBoard(log_dir=log_dir, histogram_freq=1)\n",
    "    print (\"MODEL NAME:\", model.name)\n",
    "    optimizer = tf.optimizers.Adam(learning_rate=lr)\n",
    "    model.compile(\n",
    "        optimizer=optimizer,\n",
    "        loss=tf.keras.losses.BinaryCrossentropy(),\n",
    "        metrics=['accuracy', Precision(), Recall()],\n",
    "    )\n",
    "    return model.fit(\n",
    "        x, \n",
    "        y,\n",
    "        epochs=epochs,\n",
    "        batch_size=batchsz,\n",
    "        validation_data=(x_val, y_val),\n",
    "        callbacks=[tensorboard_callback],\n",
    "        verbose=1,\n",
    "    )"
   ]
  },
  {
   "cell_type": "markdown",
   "id": "72176477-ae2b-45a8-9852-1e4647675556",
   "metadata": {
    "tags": []
   },
   "source": [
    "## Model 1: simple NN with 3 layers \n",
    "Accuracy: 96.62%"
   ]
  },
  {
   "cell_type": "code",
   "execution_count": 17,
   "id": "d8d858ac-0c30-4d6f-8b22-ee7cbe1fee94",
   "metadata": {},
   "outputs": [
    {
     "data": {
      "text/plain": [
       "Reusing TensorBoard on port 6006 (pid 42344), started 3 days, 17:13:47 ago. (Use '!kill 42344' to kill it.)"
      ]
     },
     "metadata": {},
     "output_type": "display_data"
    },
    {
     "data": {
      "text/html": [
       "\n",
       "      <iframe id=\"tensorboard-frame-bc87ee631a18b9d\" width=\"100%\" height=\"800\" frameborder=\"0\">\n",
       "      </iframe>\n",
       "      <script>\n",
       "        (function() {\n",
       "          const frame = document.getElementById(\"tensorboard-frame-bc87ee631a18b9d\");\n",
       "          const url = new URL(\"/\", window.location);\n",
       "          const port = 6006;\n",
       "          if (port) {\n",
       "            url.port = port;\n",
       "          }\n",
       "          frame.src = url;\n",
       "        })();\n",
       "      </script>\n",
       "    "
      ],
      "text/plain": [
       "<IPython.core.display.HTML object>"
      ]
     },
     "metadata": {},
     "output_type": "display_data"
    }
   ],
   "source": [
    "%tensorboard --logdir logs"
   ]
  },
  {
   "cell_type": "code",
   "execution_count": 40,
   "id": "0eb9ef05-fca2-4628-b9d0-2e60db3cbf93",
   "metadata": {},
   "outputs": [],
   "source": [
    "# define keras model\n",
    "model1 = Sequential([\n",
    "    Dense(12, input_dim=x_train.shape[1], activation='relu'),\n",
    "    Dense(8, activation='relu'),\n",
    "    Dense(1, activation='sigmoid')\n",
    "])"
   ]
  },
  {
   "cell_type": "code",
   "execution_count": null,
   "id": "6954ed49-32b8-47c9-8410-c4a6aa94c46a",
   "metadata": {},
   "outputs": [],
   "source": [
    "train_test_model(model1, x_train_scaled, y_train, x_val_scaled, y_val, lr=0.001, epochs=30, batchsz=50)"
   ]
  },
  {
   "cell_type": "code",
   "execution_count": 35,
   "id": "4784099a-c2e0-4ed3-96f6-64503269d431",
   "metadata": {},
   "outputs": [],
   "source": [
    "def tune_lr(model, step_size, num_steps, annealing_ratio, lr): \n",
    "    log_dir = \"logs/\" + model.name + \"/\" + datetime.datetime.now().strftime(\"%Y%m%d-%H%M%S\")\n",
    "    tensorboard_callback = tf.keras.callbacks.TensorBoard(log_dir=log_dir, histogram_freq=1)\n",
    "    print (\"MODEL NAME:\", model.name)\n",
    "    optimizer = tf.optimizers.Adam(learning_rate=lr)\n",
    "    model.compile(\n",
    "          optimizer=optimizer,\n",
    "          loss=tf.keras.losses.BinaryCrossentropy(),\n",
    "          metrics=[\"accuracy\"],\n",
    "    )\n",
    "    for step in range(num_steps): \n",
    "        print('step:', step)\n",
    "        if step > 0:\n",
    "          lr = lr * annealing_ratio\n",
    "        model.fit(\n",
    "            x_train, \n",
    "            y_train,\n",
    "            epochs=step_size,\n",
    "            validation_data=(x_val, y_val),\n",
    "            callbacks=[tensorboard_callback],\n",
    "        verbose=1,\n",
    "        )"
   ]
  },
  {
   "cell_type": "code",
   "execution_count": 37,
   "id": "ed823113-9567-47a6-975b-cf8ad5c805f6",
   "metadata": {},
   "outputs": [
    {
     "name": "stdout",
     "output_type": "stream",
     "text": [
      "MODEL NAME: sequential_1\n",
      "Epoch 1/5\n",
      "11653/11653 [==============================] - 17s 1ms/step - loss: 0.1515 - accuracy: 0.9653 - val_loss: 0.1531 - val_accuracy: 0.9652\n",
      "Epoch 2/5\n",
      "11653/11653 [==============================] - 16s 1ms/step - loss: 0.1514 - accuracy: 0.9653 - val_loss: 0.1513 - val_accuracy: 0.9652\n",
      "Epoch 3/5\n",
      "11653/11653 [==============================] - 16s 1ms/step - loss: 0.1514 - accuracy: 0.9653 - val_loss: 0.1510 - val_accuracy: 0.9652\n",
      "Epoch 4/5\n",
      "11653/11653 [==============================] - 16s 1ms/step - loss: 0.1514 - accuracy: 0.9653 - val_loss: 0.1531 - val_accuracy: 0.9652\n",
      "Epoch 5/5\n",
      "11653/11653 [==============================] - 16s 1ms/step - loss: 0.1514 - accuracy: 0.9653 - val_loss: 0.1515 - val_accuracy: 0.9652\n",
      "Epoch 1/5\n",
      "11653/11653 [==============================] - 17s 1ms/step - loss: 0.1514 - accuracy: 0.9653 - val_loss: 0.1512 - val_accuracy: 0.9652\n",
      "Epoch 2/5\n",
      "11653/11653 [==============================] - 16s 1ms/step - loss: 0.1514 - accuracy: 0.9653 - val_loss: 0.1523 - val_accuracy: 0.9652\n",
      "Epoch 3/5\n",
      "11653/11653 [==============================] - 17s 1ms/step - loss: 0.1515 - accuracy: 0.9653 - val_loss: 0.1513 - val_accuracy: 0.9652\n",
      "Epoch 4/5\n",
      "11653/11653 [==============================] - 16s 1ms/step - loss: 0.1514 - accuracy: 0.9653 - val_loss: 0.1511 - val_accuracy: 0.9652\n",
      "Epoch 5/5\n",
      "11653/11653 [==============================] - 16s 1ms/step - loss: 0.1514 - accuracy: 0.9653 - val_loss: 0.1523 - val_accuracy: 0.9652\n",
      "Epoch 1/5\n",
      "11653/11653 [==============================] - 17s 1ms/step - loss: 0.1515 - accuracy: 0.9653 - val_loss: 0.1511 - val_accuracy: 0.9652\n",
      "Epoch 2/5\n",
      "11653/11653 [==============================] - 16s 1ms/step - loss: 0.1514 - accuracy: 0.9653 - val_loss: 0.1516 - val_accuracy: 0.9652\n",
      "Epoch 3/5\n",
      "11653/11653 [==============================] - 17s 1ms/step - loss: 0.1513 - accuracy: 0.9653 - val_loss: 0.1521 - val_accuracy: 0.9652\n",
      "Epoch 4/5\n",
      "11653/11653 [==============================] - 17s 1ms/step - loss: 0.1515 - accuracy: 0.9653 - val_loss: 0.1510 - val_accuracy: 0.9652\n",
      "Epoch 5/5\n",
      "11653/11653 [==============================] - 16s 1ms/step - loss: 0.1514 - accuracy: 0.9653 - val_loss: 0.1511 - val_accuracy: 0.9652\n",
      "Epoch 1/5\n",
      "11653/11653 [==============================] - 17s 1ms/step - loss: 0.1513 - accuracy: 0.9653 - val_loss: 0.1511 - val_accuracy: 0.9652\n",
      "Epoch 2/5\n",
      "11653/11653 [==============================] - 17s 1ms/step - loss: 0.1514 - accuracy: 0.9653 - val_loss: 0.1514 - val_accuracy: 0.9652\n",
      "Epoch 3/5\n",
      "11653/11653 [==============================] - 18s 2ms/step - loss: 0.1513 - accuracy: 0.9653 - val_loss: 0.1543 - val_accuracy: 0.9652\n",
      "Epoch 4/5\n",
      "11653/11653 [==============================] - 17s 1ms/step - loss: 0.1514 - accuracy: 0.9653 - val_loss: 0.1525 - val_accuracy: 0.9652\n",
      "Epoch 5/5\n",
      "11653/11653 [==============================] - 17s 1ms/step - loss: 0.1514 - accuracy: 0.9653 - val_loss: 0.1511 - val_accuracy: 0.9652\n",
      "Epoch 1/5\n",
      "11653/11653 [==============================] - 17s 1ms/step - loss: 0.1514 - accuracy: 0.9653 - val_loss: 0.1515 - val_accuracy: 0.9652\n",
      "Epoch 2/5\n",
      "11653/11653 [==============================] - 16s 1ms/step - loss: 0.1514 - accuracy: 0.9653 - val_loss: 0.1524 - val_accuracy: 0.9652\n",
      "Epoch 3/5\n",
      "11653/11653 [==============================] - 16s 1ms/step - loss: 0.1514 - accuracy: 0.9653 - val_loss: 0.1531 - val_accuracy: 0.9652\n",
      "Epoch 4/5\n",
      "11653/11653 [==============================] - 16s 1ms/step - loss: 0.1514 - accuracy: 0.9653 - val_loss: 0.1522 - val_accuracy: 0.9652\n",
      "Epoch 5/5\n",
      "11653/11653 [==============================] - 16s 1ms/step - loss: 0.1513 - accuracy: 0.9653 - val_loss: 0.1511 - val_accuracy: 0.9652\n",
      "Epoch 1/5\n",
      "11653/11653 [==============================] - 16s 1ms/step - loss: 0.1514 - accuracy: 0.9653 - val_loss: 0.1511 - val_accuracy: 0.9652\n",
      "Epoch 2/5\n",
      "11653/11653 [==============================] - 16s 1ms/step - loss: 0.1514 - accuracy: 0.9653 - val_loss: 0.1541 - val_accuracy: 0.9652\n",
      "Epoch 3/5\n",
      "11653/11653 [==============================] - 16s 1ms/step - loss: 0.1514 - accuracy: 0.9653 - val_loss: 0.1526 - val_accuracy: 0.9652\n",
      "Epoch 4/5\n",
      "11653/11653 [==============================] - 16s 1ms/step - loss: 0.1514 - accuracy: 0.9653 - val_loss: 0.1512 - val_accuracy: 0.9652\n",
      "Epoch 5/5\n",
      "11653/11653 [==============================] - 16s 1ms/step - loss: 0.1514 - accuracy: 0.9653 - val_loss: 0.1520 - val_accuracy: 0.9652\n",
      "Epoch 1/5\n",
      "11653/11653 [==============================] - 17s 1ms/step - loss: 0.1514 - accuracy: 0.9653 - val_loss: 0.1523 - val_accuracy: 0.9652\n",
      "Epoch 2/5\n",
      "11653/11653 [==============================] - 17s 1ms/step - loss: 0.1514 - accuracy: 0.9653 - val_loss: 0.1517 - val_accuracy: 0.9652\n",
      "Epoch 3/5\n",
      "11653/11653 [==============================] - 18s 2ms/step - loss: 0.1515 - accuracy: 0.9653 - val_loss: 0.1510 - val_accuracy: 0.9652\n",
      "Epoch 4/5\n",
      "11653/11653 [==============================] - 23s 2ms/step - loss: 0.1514 - accuracy: 0.9653 - val_loss: 0.1511 - val_accuracy: 0.9652\n",
      "Epoch 5/5\n",
      "11653/11653 [==============================] - 17s 1ms/step - loss: 0.1514 - accuracy: 0.9653 - val_loss: 0.1521 - val_accuracy: 0.9652\n",
      "Epoch 1/5\n",
      "11653/11653 [==============================] - 18s 2ms/step - loss: 0.1515 - accuracy: 0.9653 - val_loss: 0.1516 - val_accuracy: 0.9652\n",
      "Epoch 2/5\n",
      "11653/11653 [==============================] - 17s 1ms/step - loss: 0.1515 - accuracy: 0.9653 - val_loss: 0.1515 - val_accuracy: 0.9652\n",
      "Epoch 3/5\n",
      "11653/11653 [==============================] - 17s 1ms/step - loss: 0.1514 - accuracy: 0.9653 - val_loss: 0.1522 - val_accuracy: 0.9652\n",
      "Epoch 4/5\n",
      "11653/11653 [==============================] - 16s 1ms/step - loss: 0.1515 - accuracy: 0.9653 - val_loss: 0.1510 - val_accuracy: 0.9652\n",
      "Epoch 5/5\n",
      "11653/11653 [==============================] - 17s 1ms/step - loss: 0.1514 - accuracy: 0.9653 - val_loss: 0.1541 - val_accuracy: 0.9652\n"
     ]
    }
   ],
   "source": [
    "model1_lrtuned = model1\n",
    "tune_lr(model1_lrtuned, 5, 8, 0.5, 0.1)"
   ]
  },
  {
   "cell_type": "markdown",
   "id": "e8a994c0-4da8-47b2-8d31-b24eda2141df",
   "metadata": {
    "tags": []
   },
   "source": [
    "## Grid search for better parameters\n",
    "Using hparams dashboard\n",
    "\n",
    "Source: https://www.tensorflow.org/tensorboard/hyperparameter_tuning_with_hparams"
   ]
  },
  {
   "cell_type": "code",
   "execution_count": 23,
   "id": "c8b27a8e-938a-4148-b20b-d6ebd180895e",
   "metadata": {},
   "outputs": [],
   "source": [
    "EPOCHS = 10\n",
    "\n",
    "# stop training when there are no improvements in validation score\n",
    "early_stopping = keras.callbacks.EarlyStopping(\n",
    "    monitor='val_precision',\n",
    "    verbose=1,\n",
    "    patience=10,\n",
    "    mode='max',\n",
    "    restore_best_weights=True)"
   ]
  },
  {
   "cell_type": "code",
   "execution_count": 24,
   "id": "c726f6cc-915e-4cdd-9c89-2cd4cbf63845",
   "metadata": {},
   "outputs": [],
   "source": [
    "from tensorboard.plugins.hparams import api as hp\n",
    "\n",
    "# define the hyperparameters to tune\n",
    "LEARNING_RATE = hp.HParam('learning_rate', hp.Discrete([0.001, 0.01, 0.1]))\n",
    "BATCH_SIZE = hp.HParam('batch_size', hp.Discrete([16, 32, 64]))\n",
    "\n",
    "# define metrics\n",
    "METRIC_ACCURACY = hp.Metric('accuracy', display_name='Accuracy')\n",
    "METRIC_PRECISION = hp.Metric('precision', display_name='Precision')\n",
    "METRIC_RECALL = hp.Metric('recall', display_name='Recall')\n",
    "METRICS = [METRIC_ACCURACY, METRIC_PRECISION, METRIC_RECALL]\n",
    "\n",
    "with tf.summary.create_file_writer('logs/hparam_tuning').as_default():\n",
    "    hp.hparams_config(\n",
    "        hparams=[LEARNING_RATE, BATCH_SIZE],\n",
    "        metrics=[METRIC_ACCURACY, METRIC_PRECISION, METRIC_RECALL],\n",
    "    )"
   ]
  },
  {
   "cell_type": "code",
   "execution_count": 25,
   "id": "e4105ff5-1874-465f-b4c9-a90c36febbcc",
   "metadata": {},
   "outputs": [],
   "source": [
    "def train_test_model(hparams):\n",
    "    model = Sequential([\n",
    "        Dense(12, input_dim=x_train.shape[1], activation='relu'),\n",
    "        Dense(8, activation='relu'),\n",
    "        Dense(1, activation='sigmoid')\n",
    "    ])\n",
    "    \n",
    "    model.compile(\n",
    "        optimizer=keras.optimizers.Adam(learning_rate=hparams[LEARNING_RATE]),\n",
    "        loss=keras.losses.BinaryCrossentropy(),\n",
    "        metrics=['accuracy', Precision(name='precision'), Recall(name='recall')]\n",
    "    )\n",
    "    \n",
    "    model.fit(\n",
    "        x_train, y_train, \n",
    "        epochs=EPOCHS, \n",
    "        callbacks=[early_stopping], \n",
    "        validation_data=(x_val, y_val), \n",
    "        verbose=0\n",
    "    )\n",
    "    metrics = model.evaluate(x_test, y_test)\n",
    "    \n",
    "    return metrics"
   ]
  },
  {
   "cell_type": "code",
   "execution_count": 32,
   "id": "a5e8cfdc-b318-453d-bf7b-74fc61bf76e6",
   "metadata": {},
   "outputs": [],
   "source": [
    "def run(run_dir, hparams):\n",
    "    with tf.summary.create_file_writer(run_dir).as_default():\n",
    "        hp.hparams(hparams)\n",
    "        metrics = train_test_model(hparams)\n",
    "        _, accuracy, precision, recall = metrics\n",
    "        tf.summary.scalar('accuracy', accuracy, step=1)\n",
    "        tf.summary.scalar('precision', precision, step=1)\n",
    "        tf.summary.scalar('recall', recall, step=1)"
   ]
  },
  {
   "cell_type": "code",
   "execution_count": 33,
   "id": "5c3c12c3-3b4a-4858-86a3-a7000e3b8bbb",
   "metadata": {},
   "outputs": [
    {
     "name": "stdout",
     "output_type": "stream",
     "text": [
      "--- Starting trial: run-0\n",
      "{'batch_size': 16, 'learning_rate': 0.001}\n",
      "3108/3108 [==============================] - 4s 1ms/step - loss: 0.1233 - accuracy: 0.9661 - precision: 0.6372 - recall: 0.0400\n",
      "--- Starting trial: run-1\n",
      "{'batch_size': 16, 'learning_rate': 0.01}\n",
      "3108/3108 [==============================] - 4s 1ms/step - loss: 0.1252 - accuracy: 0.9655 - precision: 0.0000e+00 - recall: 0.0000e+00\n",
      "--- Starting trial: run-2\n",
      "{'batch_size': 16, 'learning_rate': 0.1}\n",
      "3108/3108 [==============================] - 3s 1ms/step - loss: 0.1517 - accuracy: 0.9655 - precision: 0.0000e+00 - recall: 0.0000e+00\n",
      "--- Starting trial: run-3\n",
      "{'batch_size': 32, 'learning_rate': 0.001}\n",
      "3108/3108 [==============================] - 4s 1ms/step - loss: 0.1231 - accuracy: 0.9665 - precision: 0.6679 - recall: 0.0540\n",
      "--- Starting trial: run-4\n",
      "{'batch_size': 32, 'learning_rate': 0.01}\n",
      "3108/3108 [==============================] - 4s 1ms/step - loss: 0.1264 - accuracy: 0.9655 - precision: 0.0000e+00 - recall: 0.0000e+00\n",
      "--- Starting trial: run-5\n",
      "{'batch_size': 32, 'learning_rate': 0.1}\n",
      "3108/3108 [==============================] - 4s 1ms/step - loss: 0.1517 - accuracy: 0.9655 - precision: 0.0000e+00 - recall: 0.0000e+00\n",
      "--- Starting trial: run-6\n",
      "{'batch_size': 64, 'learning_rate': 0.001}\n",
      "3108/3108 [==============================] - 4s 1ms/step - loss: 0.1212 - accuracy: 0.9670 - precision: 0.7351 - recall: 0.0648\n",
      "--- Starting trial: run-7\n",
      "{'batch_size': 64, 'learning_rate': 0.01}\n",
      "3108/3108 [==============================] - 4s 1ms/step - loss: 0.1227 - accuracy: 0.9656 - precision: 0.5197 - recall: 0.0193\n",
      "--- Starting trial: run-8\n",
      "{'batch_size': 64, 'learning_rate': 0.1}\n",
      "3108/3108 [==============================] - 4s 1ms/step - loss: 0.1504 - accuracy: 0.9655 - precision: 0.0000e+00 - recall: 0.0000e+00\n"
     ]
    }
   ],
   "source": [
    "session_num = 0\n",
    "\n",
    "# Perform the grid search\n",
    "for bs in BATCH_SIZE.domain.values:\n",
    "    for lr in LEARNING_RATE.domain.values:\n",
    "        hparams = {\n",
    "            BATCH_SIZE: bs,\n",
    "            LEARNING_RATE: lr\n",
    "        }\n",
    "        \n",
    "        run_name = 'run-%d' % session_num\n",
    "        \n",
    "        print('--- Starting trial:', run_name)\n",
    "        print({h.name: hparams[h] for h in hparams})\n",
    "        \n",
    "        run('logs/hparam_tuning/' + run_name, hparams)\n",
    "        session_num += 1"
   ]
  },
  {
   "attachments": {
    "ddb9d5cf-065d-4331-91eb-3c8ce0d4e392.png": {
     "image/png": "[encoded data removed]"
    }
   },
   "cell_type": "markdown",
   "id": "d0f87bab-c86a-4ee0-9a2d-ed324a1f648f",
   "metadata": {
    "tags": []
   },
   "source": [
    "#### Results:\n",
    "\n",
    "![hparam_tuning_results.png](attachment:ddb9d5cf-065d-4331-91eb-3c8ce0d4e392.png)"
   ]
  },
  {
   "cell_type": "code",
   "execution_count": 34,
   "id": "8fd945ed-a1af-49e0-a828-ff359a8cc136",
   "metadata": {},
   "outputs": [
    {
     "data": {
      "text/plain": [
       "Reusing TensorBoard on port 6006 (pid 139920), started 19:01:37 ago. (Use '!kill 139920' to kill it.)"
      ]
     },
     "metadata": {},
     "output_type": "display_data"
    },
    {
     "data": {
      "text/html": [
       "\n",
       "      <iframe id=\"tensorboard-frame-4396e7744e8f05fb\" width=\"100%\" height=\"800\" frameborder=\"0\">\n",
       "      </iframe>\n",
       "      <script>\n",
       "        (function() {\n",
       "          const frame = document.getElementById(\"tensorboard-frame-4396e7744e8f05fb\");\n",
       "          const url = new URL(\"/\", window.location);\n",
       "          const port = 6006;\n",
       "          if (port) {\n",
       "            url.port = port;\n",
       "          }\n",
       "          frame.src = url;\n",
       "        })();\n",
       "      </script>\n",
       "    "
      ],
      "text/plain": [
       "<IPython.core.display.HTML object>"
      ]
     },
     "metadata": {},
     "output_type": "display_data"
    }
   ],
   "source": [
    "%tensorboard --logdir logs/hparam_tuning"
   ]
  },
  {
   "cell_type": "markdown",
   "id": "d9ffc4db-e55c-4523-9b6d-28279109bfbd",
   "metadata": {
    "tags": []
   },
   "source": [
    "## Addressing low precision & recall\n",
    "Guess: due to class imbalance?"
   ]
  },
  {
   "cell_type": "code",
   "execution_count": 38,
   "id": "0806e40b-68ac-453a-817f-2455755db83d",
   "metadata": {},
   "outputs": [],
   "source": [
    "# solution 1: undersampling\n",
    "from imblearn.under_sampling import RandomUnderSampler\n",
    "\n",
    "undersample = RandomUnderSampler(sampling_strategy='majority')\n",
    "x_under, y_under = undersample.fit_resample(x_train, y_train)"
   ]
  },
  {
   "cell_type": "code",
   "execution_count": 46,
   "id": "73bed97d-dfd2-4274-86ea-e8f6d82e7061",
   "metadata": {},
   "outputs": [
    {
     "name": "stdout",
     "output_type": "stream",
     "text": [
      "MODEL NAME: sequential_16\n",
      "Epoch 1/30\n",
      "344/344 [==============================] - 3s 6ms/step - loss: 0.6300 - accuracy: 0.6306 - precision: 0.6172 - recall: 0.6877 - val_loss: 0.5914 - val_accuracy: 0.5693 - val_precision: 0.0621 - val_recall: 0.7878\n",
      "Epoch 2/30\n",
      "344/344 [==============================] - 2s 5ms/step - loss: 0.5713 - accuracy: 0.6877 - precision: 0.6521 - recall: 0.8046 - val_loss: 0.5892 - val_accuracy: 0.5687 - val_precision: 0.0643 - val_recall: 0.8207\n",
      "Epoch 3/30\n",
      "344/344 [==============================] - 2s 5ms/step - loss: 0.5554 - accuracy: 0.7007 - precision: 0.6626 - recall: 0.8175 - val_loss: 0.5789 - val_accuracy: 0.5953 - val_precision: 0.0676 - val_recall: 0.8112\n",
      "Epoch 4/30\n",
      "344/344 [==============================] - 2s 5ms/step - loss: 0.5459 - accuracy: 0.7074 - precision: 0.6717 - recall: 0.8113 - val_loss: 0.5486 - val_accuracy: 0.6270 - val_precision: 0.0708 - val_recall: 0.7829\n",
      "Epoch 5/30\n",
      "344/344 [==============================] - 2s 5ms/step - loss: 0.5396 - accuracy: 0.7123 - precision: 0.6793 - recall: 0.8044 - val_loss: 0.5584 - val_accuracy: 0.6249 - val_precision: 0.0706 - val_recall: 0.7854\n",
      "Epoch 6/30\n",
      "344/344 [==============================] - 2s 5ms/step - loss: 0.5355 - accuracy: 0.7148 - precision: 0.6818 - recall: 0.8058 - val_loss: 0.5610 - val_accuracy: 0.6261 - val_precision: 0.0714 - val_recall: 0.7931\n",
      "Epoch 7/30\n",
      "344/344 [==============================] - 2s 5ms/step - loss: 0.5317 - accuracy: 0.7193 - precision: 0.6879 - recall: 0.8030 - val_loss: 0.5554 - val_accuracy: 0.6338 - val_precision: 0.0727 - val_recall: 0.7914\n",
      "Epoch 8/30\n",
      "344/344 [==============================] - 2s 5ms/step - loss: 0.5286 - accuracy: 0.7214 - precision: 0.6911 - recall: 0.8007 - val_loss: 0.5795 - val_accuracy: 0.6236 - val_precision: 0.0722 - val_recall: 0.8087\n",
      "Epoch 9/30\n",
      "344/344 [==============================] - 2s 5ms/step - loss: 0.5255 - accuracy: 0.7243 - precision: 0.6961 - recall: 0.7963 - val_loss: 0.5823 - val_accuracy: 0.6273 - val_precision: 0.0725 - val_recall: 0.8048\n",
      "Epoch 10/30\n",
      "344/344 [==============================] - 2s 5ms/step - loss: 0.5228 - accuracy: 0.7280 - precision: 0.6992 - recall: 0.8001 - val_loss: 0.5572 - val_accuracy: 0.6461 - val_precision: 0.0744 - val_recall: 0.7829\n",
      "Epoch 11/30\n",
      "344/344 [==============================] - 2s 5ms/step - loss: 0.5202 - accuracy: 0.7294 - precision: 0.7019 - recall: 0.7975 - val_loss: 0.5326 - val_accuracy: 0.6713 - val_precision: 0.0779 - val_recall: 0.7613\n",
      "Epoch 12/30\n",
      "344/344 [==============================] - 2s 5ms/step - loss: 0.5178 - accuracy: 0.7318 - precision: 0.7055 - recall: 0.7959 - val_loss: 0.5617 - val_accuracy: 0.6556 - val_precision: 0.0759 - val_recall: 0.7776\n",
      "Epoch 13/30\n",
      "344/344 [==============================] - 2s 5ms/step - loss: 0.5156 - accuracy: 0.7337 - precision: 0.7094 - recall: 0.7916 - val_loss: 0.5754 - val_accuracy: 0.6474 - val_precision: 0.0747 - val_recall: 0.7836\n",
      "Epoch 14/30\n",
      "344/344 [==============================] - 2s 5ms/step - loss: 0.5138 - accuracy: 0.7347 - precision: 0.7110 - recall: 0.7908 - val_loss: 0.5498 - val_accuracy: 0.6662 - val_precision: 0.0776 - val_recall: 0.7709\n",
      "Epoch 15/30\n",
      "344/344 [==============================] - 2s 5ms/step - loss: 0.5116 - accuracy: 0.7368 - precision: 0.7125 - recall: 0.7941 - val_loss: 0.5836 - val_accuracy: 0.6431 - val_precision: 0.0752 - val_recall: 0.8006\n",
      "Epoch 16/30\n",
      "344/344 [==============================] - 2s 5ms/step - loss: 0.5102 - accuracy: 0.7386 - precision: 0.7149 - recall: 0.7936 - val_loss: 0.5540 - val_accuracy: 0.6735 - val_precision: 0.0792 - val_recall: 0.7705\n",
      "Epoch 17/30\n",
      "344/344 [==============================] - 2s 5ms/step - loss: 0.5091 - accuracy: 0.7390 - precision: 0.7161 - recall: 0.7920 - val_loss: 0.6008 - val_accuracy: 0.6414 - val_precision: 0.0749 - val_recall: 0.8009\n",
      "Epoch 18/30\n",
      "344/344 [==============================] - 2s 5ms/step - loss: 0.5073 - accuracy: 0.7395 - precision: 0.7165 - recall: 0.7926 - val_loss: 0.5683 - val_accuracy: 0.6570 - val_precision: 0.0768 - val_recall: 0.7850\n",
      "Epoch 19/30\n",
      "344/344 [==============================] - 2s 5ms/step - loss: 0.5064 - accuracy: 0.7403 - precision: 0.7177 - recall: 0.7921 - val_loss: 0.5567 - val_accuracy: 0.6641 - val_precision: 0.0779 - val_recall: 0.7790\n",
      "Epoch 20/30\n",
      "344/344 [==============================] - 2s 5ms/step - loss: 0.5048 - accuracy: 0.7421 - precision: 0.7194 - recall: 0.7940 - val_loss: 0.5455 - val_accuracy: 0.6798 - val_precision: 0.0803 - val_recall: 0.7659\n",
      "Epoch 21/30\n",
      "344/344 [==============================] - 2s 5ms/step - loss: 0.5042 - accuracy: 0.7435 - precision: 0.7226 - recall: 0.7904 - val_loss: 0.5683 - val_accuracy: 0.6611 - val_precision: 0.0780 - val_recall: 0.7882\n",
      "Epoch 22/30\n",
      "344/344 [==============================] - 2s 5ms/step - loss: 0.5028 - accuracy: 0.7442 - precision: 0.7230 - recall: 0.7915 - val_loss: 0.5726 - val_accuracy: 0.6572 - val_precision: 0.0773 - val_recall: 0.7900\n",
      "Epoch 23/30\n",
      "344/344 [==============================] - 2s 5ms/step - loss: 0.5017 - accuracy: 0.7462 - precision: 0.7240 - recall: 0.7956 - val_loss: 0.5524 - val_accuracy: 0.6785 - val_precision: 0.0801 - val_recall: 0.7670\n",
      "Epoch 24/30\n",
      "344/344 [==============================] - 2s 5ms/step - loss: 0.5006 - accuracy: 0.7462 - precision: 0.7257 - recall: 0.7914 - val_loss: 0.5591 - val_accuracy: 0.6710 - val_precision: 0.0792 - val_recall: 0.7772\n",
      "Epoch 25/30\n",
      "344/344 [==============================] - 2s 5ms/step - loss: 0.4997 - accuracy: 0.7451 - precision: 0.7233 - recall: 0.7940 - val_loss: 0.5197 - val_accuracy: 0.7052 - val_precision: 0.0848 - val_recall: 0.7443\n",
      "Epoch 26/30\n",
      "344/344 [==============================] - 2s 5ms/step - loss: 0.4982 - accuracy: 0.7473 - precision: 0.7279 - recall: 0.7901 - val_loss: 0.5647 - val_accuracy: 0.6700 - val_precision: 0.0792 - val_recall: 0.7797\n",
      "Epoch 27/30\n",
      "344/344 [==============================] - 2s 5ms/step - loss: 0.4976 - accuracy: 0.7466 - precision: 0.7265 - recall: 0.7910 - val_loss: 0.5309 - val_accuracy: 0.6957 - val_precision: 0.0836 - val_recall: 0.7585\n",
      "Epoch 28/30\n",
      "344/344 [==============================] - 2s 5ms/step - loss: 0.4968 - accuracy: 0.7484 - precision: 0.7282 - recall: 0.7927 - val_loss: 0.5553 - val_accuracy: 0.6791 - val_precision: 0.0815 - val_recall: 0.7818\n",
      "Epoch 29/30\n",
      "344/344 [==============================] - 2s 5ms/step - loss: 0.4962 - accuracy: 0.7495 - precision: 0.7293 - recall: 0.7935 - val_loss: 0.5202 - val_accuracy: 0.7069 - val_precision: 0.0859 - val_recall: 0.7514\n",
      "Epoch 30/30\n",
      "344/344 [==============================] - 2s 5ms/step - loss: 0.4950 - accuracy: 0.7510 - precision: 0.7314 - recall: 0.7933 - val_loss: 0.5481 - val_accuracy: 0.6834 - val_precision: 0.0820 - val_recall: 0.7758\n"
     ]
    },
    {
     "data": {
      "text/plain": [
       "<keras.callbacks.History at 0x1cd2066ffa0>"
      ]
     },
     "execution_count": 46,
     "metadata": {},
     "output_type": "execute_result"
    }
   ],
   "source": [
    "train(model1, x_under, y_under, x_val, y_val, lr=0.001, epochs=30, batchsz=64)"
   ]
  },
  {
   "cell_type": "code",
   "execution_count": 47,
   "id": "65443bf2-4249-4885-8edb-3de49bbaf983",
   "metadata": {},
   "outputs": [
    {
     "name": "stdout",
     "output_type": "stream",
     "text": [
      "3108/3108 [==============================] - 4s 1ms/step - loss: 0.5514 - accuracy: 0.6803 - precision: 0.0796 - recall: 0.7838\n"
     ]
    },
    {
     "data": {
      "text/plain": [
       "[0.5514184236526489,\n",
       " 0.6803004741668701,\n",
       " 0.07962293177843094,\n",
       " 0.7837759256362915]"
      ]
     },
     "execution_count": 47,
     "metadata": {},
     "output_type": "execute_result"
    }
   ],
   "source": [
    "model1.evaluate(x_test, y_test)"
   ]
  },
  {
   "cell_type": "code",
   "execution_count": 53,
   "id": "184a972b-22ed-4170-b3b6-9c7c97fa213a",
   "metadata": {},
   "outputs": [
    {
     "name": "stdout",
     "output_type": "stream",
     "text": [
      "3108/3108 [==============================] - 2s 766us/step\n"
     ]
    },
    {
     "data": {
      "text/plain": [
       "array([[64959, 31048],\n",
       "       [  741,  2686]], dtype=int64)"
      ]
     },
     "execution_count": 53,
     "metadata": {},
     "output_type": "execute_result"
    }
   ],
   "source": [
    "from sklearn.metrics import confusion_matrix\n",
    "\n",
    "under_pred_prob = model1.predict(x_test)\n",
    "threshold = 0.5\n",
    "under_pred = (under_pred_prob > threshold).astype(int)\n",
    "confusion_matrix(y_test, under_pred)"
   ]
  }
 ],
 "metadata": {
  "kernelspec": {
   "display_name": "Python 3 (ipykernel)",
   "language": "python",
   "name": "python3"
  },
  "language_info": {
   "codemirror_mode": {
    "name": "ipython",
    "version": 3
   },
   "file_extension": ".py",
   "mimetype": "text/x-python",
   "name": "python",
   "nbconvert_exporter": "python",
   "pygments_lexer": "ipython3",
   "version": "3.10.9"
  }
 },
 "nbformat": 4,
 "nbformat_minor": 5
}
