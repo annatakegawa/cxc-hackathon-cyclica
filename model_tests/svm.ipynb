{
 "cells": [
  {
   "cell_type": "code",
   "execution_count": 2,
   "id": "e0aa7427-993c-4545-b4a5-a0d25b6ff8bd",
   "metadata": {},
   "outputs": [],
   "source": [
    "import matplotlib.pyplot as plt\n",
    "import numpy as np\n",
    "import pandas as pd\n",
    "import seaborn as sns\n",
    "from sklearn.model_selection import train_test_split\n",
    "from sklearn.preprocessing import StandardScaler\n",
    "from sklearn.svm import SVC\n",
    "from sklearn.metrics import classification_report, confusion_matrix\n",
    "%matplotlib inline"
   ]
  },
  {
   "cell_type": "markdown",
   "id": "439936da-230f-4ecc-804a-edc02dc1a66e",
   "metadata": {
    "tags": []
   },
   "source": [
    "## Data Preprocessing"
   ]
  },
  {
   "cell_type": "code",
   "execution_count": 3,
   "id": "1516c7f9-d592-4fb0-bc17-5a9e0d276a73",
   "metadata": {},
   "outputs": [
    {
     "data": {
      "text/html": [
       "<div>\n",
       "<style scoped>\n",
       "    .dataframe tbody tr th:only-of-type {\n",
       "        vertical-align: middle;\n",
       "    }\n",
       "\n",
       "    .dataframe tbody tr th {\n",
       "        vertical-align: top;\n",
       "    }\n",
       "\n",
       "    .dataframe thead th {\n",
       "        text-align: right;\n",
       "    }\n",
       "</style>\n",
       "<table border=\"1\" class=\"dataframe\">\n",
       "  <thead>\n",
       "    <tr style=\"text-align: right;\">\n",
       "      <th></th>\n",
       "      <th>annotation_sequence</th>\n",
       "      <th>feat_A</th>\n",
       "      <th>feat_C</th>\n",
       "      <th>feat_D</th>\n",
       "      <th>feat_E</th>\n",
       "      <th>feat_F</th>\n",
       "      <th>feat_G</th>\n",
       "      <th>feat_H</th>\n",
       "      <th>feat_I</th>\n",
       "      <th>feat_K</th>\n",
       "      <th>...</th>\n",
       "      <th>feat_DSSP_10</th>\n",
       "      <th>feat_DSSP_11</th>\n",
       "      <th>feat_DSSP_12</th>\n",
       "      <th>feat_DSSP_13</th>\n",
       "      <th>coord_X</th>\n",
       "      <th>coord_Y</th>\n",
       "      <th>coord_Z</th>\n",
       "      <th>entry</th>\n",
       "      <th>entry_index</th>\n",
       "      <th>y_Ligand</th>\n",
       "    </tr>\n",
       "  </thead>\n",
       "  <tbody>\n",
       "    <tr>\n",
       "      <th>0</th>\n",
       "      <td>M</td>\n",
       "      <td>False</td>\n",
       "      <td>False</td>\n",
       "      <td>False</td>\n",
       "      <td>False</td>\n",
       "      <td>False</td>\n",
       "      <td>False</td>\n",
       "      <td>False</td>\n",
       "      <td>False</td>\n",
       "      <td>False</td>\n",
       "      <td>...</td>\n",
       "      <td>0</td>\n",
       "      <td>0.0</td>\n",
       "      <td>47</td>\n",
       "      <td>-0.0</td>\n",
       "      <td>-26.499001</td>\n",
       "      <td>-4.742</td>\n",
       "      <td>-35.189999</td>\n",
       "      <td>GEMI5_HUMAN</td>\n",
       "      <td>0</td>\n",
       "      <td>False</td>\n",
       "    </tr>\n",
       "    <tr>\n",
       "      <th>1</th>\n",
       "      <td>G</td>\n",
       "      <td>False</td>\n",
       "      <td>False</td>\n",
       "      <td>False</td>\n",
       "      <td>False</td>\n",
       "      <td>False</td>\n",
       "      <td>True</td>\n",
       "      <td>False</td>\n",
       "      <td>False</td>\n",
       "      <td>False</td>\n",
       "      <td>...</td>\n",
       "      <td>0</td>\n",
       "      <td>0.0</td>\n",
       "      <td>0</td>\n",
       "      <td>0.0</td>\n",
       "      <td>-25.158001</td>\n",
       "      <td>-1.342</td>\n",
       "      <td>-34.104000</td>\n",
       "      <td>GEMI5_HUMAN</td>\n",
       "      <td>1</td>\n",
       "      <td>False</td>\n",
       "    </tr>\n",
       "    <tr>\n",
       "      <th>2</th>\n",
       "      <td>Q</td>\n",
       "      <td>False</td>\n",
       "      <td>False</td>\n",
       "      <td>False</td>\n",
       "      <td>False</td>\n",
       "      <td>False</td>\n",
       "      <td>False</td>\n",
       "      <td>False</td>\n",
       "      <td>False</td>\n",
       "      <td>False</td>\n",
       "      <td>...</td>\n",
       "      <td>1</td>\n",
       "      <td>-0.0</td>\n",
       "      <td>-1</td>\n",
       "      <td>-0.0</td>\n",
       "      <td>-21.926001</td>\n",
       "      <td>-1.641</td>\n",
       "      <td>-32.175999</td>\n",
       "      <td>GEMI5_HUMAN</td>\n",
       "      <td>2</td>\n",
       "      <td>False</td>\n",
       "    </tr>\n",
       "    <tr>\n",
       "      <th>3</th>\n",
       "      <td>E</td>\n",
       "      <td>False</td>\n",
       "      <td>False</td>\n",
       "      <td>False</td>\n",
       "      <td>True</td>\n",
       "      <td>False</td>\n",
       "      <td>False</td>\n",
       "      <td>False</td>\n",
       "      <td>False</td>\n",
       "      <td>False</td>\n",
       "      <td>...</td>\n",
       "      <td>706</td>\n",
       "      <td>-0.1</td>\n",
       "      <td>705</td>\n",
       "      <td>-0.0</td>\n",
       "      <td>-22.073999</td>\n",
       "      <td>0.654</td>\n",
       "      <td>-29.171000</td>\n",
       "      <td>GEMI5_HUMAN</td>\n",
       "      <td>3</td>\n",
       "      <td>False</td>\n",
       "    </tr>\n",
       "    <tr>\n",
       "      <th>4</th>\n",
       "      <td>P</td>\n",
       "      <td>False</td>\n",
       "      <td>False</td>\n",
       "      <td>False</td>\n",
       "      <td>False</td>\n",
       "      <td>False</td>\n",
       "      <td>False</td>\n",
       "      <td>False</td>\n",
       "      <td>False</td>\n",
       "      <td>False</td>\n",
       "      <td>...</td>\n",
       "      <td>0</td>\n",
       "      <td>0.0</td>\n",
       "      <td>705</td>\n",
       "      <td>-0.2</td>\n",
       "      <td>-19.783001</td>\n",
       "      <td>2.670</td>\n",
       "      <td>-26.858999</td>\n",
       "      <td>GEMI5_HUMAN</td>\n",
       "      <td>4</td>\n",
       "      <td>False</td>\n",
       "    </tr>\n",
       "  </tbody>\n",
       "</table>\n",
       "<p>5 rows × 50 columns</p>\n",
       "</div>"
      ],
      "text/plain": [
       "  annotation_sequence  feat_A  feat_C  feat_D  feat_E  feat_F  feat_G  feat_H  \\\n",
       "0                   M   False   False   False   False   False   False   False   \n",
       "1                   G   False   False   False   False   False    True   False   \n",
       "2                   Q   False   False   False   False   False   False   False   \n",
       "3                   E   False   False   False    True   False   False   False   \n",
       "4                   P   False   False   False   False   False   False   False   \n",
       "\n",
       "   feat_I  feat_K  ...  feat_DSSP_10  feat_DSSP_11  feat_DSSP_12  \\\n",
       "0   False   False  ...             0           0.0            47   \n",
       "1   False   False  ...             0           0.0             0   \n",
       "2   False   False  ...             1          -0.0            -1   \n",
       "3   False   False  ...           706          -0.1           705   \n",
       "4   False   False  ...             0           0.0           705   \n",
       "\n",
       "   feat_DSSP_13    coord_X  coord_Y    coord_Z        entry  entry_index  \\\n",
       "0          -0.0 -26.499001   -4.742 -35.189999  GEMI5_HUMAN            0   \n",
       "1           0.0 -25.158001   -1.342 -34.104000  GEMI5_HUMAN            1   \n",
       "2          -0.0 -21.926001   -1.641 -32.175999  GEMI5_HUMAN            2   \n",
       "3          -0.0 -22.073999    0.654 -29.171000  GEMI5_HUMAN            3   \n",
       "4          -0.2 -19.783001    2.670 -26.858999  GEMI5_HUMAN            4   \n",
       "\n",
       "   y_Ligand  \n",
       "0     False  \n",
       "1     False  \n",
       "2     False  \n",
       "3     False  \n",
       "4     False  \n",
       "\n",
       "[5 rows x 50 columns]"
      ]
     },
     "execution_count": 3,
     "metadata": {},
     "output_type": "execute_result"
    }
   ],
   "source": [
    "df = pd.read_csv(\"af2_dataset_training_labeled.csv.gz\", index_col=0)\n",
    "df.head()"
   ]
  },
  {
   "cell_type": "code",
   "execution_count": 4,
   "id": "b02e7a0c-2062-4f98-88e0-02354bfbab83",
   "metadata": {},
   "outputs": [],
   "source": [
    "# find any missing values\n",
    "#df.info()"
   ]
  },
  {
   "cell_type": "code",
   "execution_count": 5,
   "id": "43d07f22-b108-4f89-9b98-6fef85798288",
   "metadata": {},
   "outputs": [],
   "source": [
    "# counts = df['y_Ligand'].value_counts() / len(df)\n",
    "# counts.plot.bar()\n",
    "# plt.title('Percentage of binding and non-binding residue')\n",
    "# plt.show()"
   ]
  },
  {
   "cell_type": "code",
   "execution_count": 6,
   "id": "791fd416-506e-4ac1-be61-95295b506032",
   "metadata": {},
   "outputs": [],
   "source": [
    "y = df[\"y_Ligand\"].astype(int)\n",
    "y = np.array(y)"
   ]
  },
  {
   "cell_type": "code",
   "execution_count": 7,
   "id": "5ef8ab2d-3eda-49c5-bda7-29961d453536",
   "metadata": {},
   "outputs": [
    {
     "name": "stdout",
     "output_type": "stream",
     "text": [
      "<class 'pandas.core.frame.DataFrame'>\n",
      "Int64Index: 497166 entries, 0 to 759\n",
      "Data columns (total 46 columns):\n",
      " #   Column        Non-Null Count   Dtype  \n",
      "---  ------        --------------   -----  \n",
      " 0   feat_A        497166 non-null  int32  \n",
      " 1   feat_C        497166 non-null  int32  \n",
      " 2   feat_D        497166 non-null  int32  \n",
      " 3   feat_E        497166 non-null  int32  \n",
      " 4   feat_F        497166 non-null  int32  \n",
      " 5   feat_G        497166 non-null  int32  \n",
      " 6   feat_H        497166 non-null  int32  \n",
      " 7   feat_I        497166 non-null  int32  \n",
      " 8   feat_K        497166 non-null  int32  \n",
      " 9   feat_L        497166 non-null  int32  \n",
      " 10  feat_M        497166 non-null  int32  \n",
      " 11  feat_N        497166 non-null  int32  \n",
      " 12  feat_P        497166 non-null  int32  \n",
      " 13  feat_Q        497166 non-null  int32  \n",
      " 14  feat_R        497166 non-null  int32  \n",
      " 15  feat_S        497166 non-null  int32  \n",
      " 16  feat_T        497166 non-null  int32  \n",
      " 17  feat_V        497166 non-null  int32  \n",
      " 18  feat_W        497166 non-null  int32  \n",
      " 19  feat_Y        497166 non-null  int32  \n",
      " 20  feat_PHI      497166 non-null  float64\n",
      " 21  feat_PSI      497166 non-null  float64\n",
      " 22  feat_TAU      497166 non-null  float64\n",
      " 23  feat_THETA    497166 non-null  float64\n",
      " 24  feat_BBSASA   497166 non-null  float64\n",
      " 25  feat_SCSASA   497166 non-null  float64\n",
      " 26  feat_pLDDT    497166 non-null  float64\n",
      " 27  feat_DSSP_H   497166 non-null  int32  \n",
      " 28  feat_DSSP_B   497166 non-null  int32  \n",
      " 29  feat_DSSP_E   497166 non-null  int32  \n",
      " 30  feat_DSSP_G   497166 non-null  int32  \n",
      " 31  feat_DSSP_I   497166 non-null  int32  \n",
      " 32  feat_DSSP_T   497166 non-null  int32  \n",
      " 33  feat_DSSP_S   497166 non-null  int32  \n",
      " 34  feat_DSSP_6   497166 non-null  int64  \n",
      " 35  feat_DSSP_7   497166 non-null  float64\n",
      " 36  feat_DSSP_8   497166 non-null  int64  \n",
      " 37  feat_DSSP_9   497166 non-null  float64\n",
      " 38  feat_DSSP_10  497166 non-null  int64  \n",
      " 39  feat_DSSP_11  497166 non-null  float64\n",
      " 40  feat_DSSP_12  497166 non-null  int64  \n",
      " 41  feat_DSSP_13  497166 non-null  float64\n",
      " 42  coord_X       497166 non-null  float64\n",
      " 43  coord_Y       497166 non-null  float64\n",
      " 44  coord_Z       497166 non-null  float64\n",
      " 45  entry_index   497166 non-null  int64  \n",
      "dtypes: float64(14), int32(27), int64(5)\n",
      "memory usage: 127.1 MB\n"
     ]
    }
   ],
   "source": [
    "# dropping columns\n",
    "df_x = df.drop(['annotation_sequence', 'annotation_atomrec', 'entry', 'y_Ligand'], axis=1)\n",
    "\n",
    "# convert boolean columns into integer\n",
    "df_x[df_x.select_dtypes(include='bool').columns] = df_x.select_dtypes(include='bool').astype(int)\n",
    "\n",
    "df_x.info()"
   ]
  },
  {
   "cell_type": "code",
   "execution_count": 8,
   "id": "9b666619-b03b-4fd9-b4ff-f4561b5c0e6f",
   "metadata": {},
   "outputs": [],
   "source": [
    "x_train, x_val, y_train, y_val = train_test_split(df_x, y)"
   ]
  },
  {
   "cell_type": "code",
   "execution_count": 9,
   "id": "2c22933e-796f-47a9-b541-751f11d14a92",
   "metadata": {},
   "outputs": [
    {
     "data": {
      "text/plain": [
       "array([[-0.27142904, -0.14558469, -0.23236873, ...,  0.67526137,\n",
       "        -1.64581019, -0.57098393],\n",
       "       [-0.27142904, -0.14558469, -0.23236873, ..., -1.01525637,\n",
       "        -0.34516831, -0.70446581],\n",
       "       [-0.27142904, -0.14558469, -0.23236873, ...,  0.87845701,\n",
       "        -0.67976176, -0.33101651],\n",
       "       ...,\n",
       "       [-0.27142904, -0.14558469, -0.23236873, ..., -0.06204983,\n",
       "        -0.24075805, -0.59948006],\n",
       "       [-0.27142904, -0.14558469, -0.23236873, ..., -1.96914147,\n",
       "         0.17256544, -0.01155987],\n",
       "       [-0.27142904, -0.14558469, -0.23236873, ..., -0.10024595,\n",
       "        -0.58045747,  1.85868627]])"
      ]
     },
     "execution_count": 9,
     "metadata": {},
     "output_type": "execute_result"
    }
   ],
   "source": [
    "# scaling\n",
    "numeric_cols = x_train.select_dtypes(include=[float, int]).columns\n",
    "scaler = StandardScaler()\n",
    "x_train_scaled = scaler.fit_transform(x_train[numeric_cols])\n",
    "x_val_scaled = scaler.fit_transform(x_val[numeric_cols])\n",
    "x_train_scaled"
   ]
  },
  {
   "cell_type": "markdown",
   "id": "63deed24-9824-4655-bc46-a257e2d86c4a",
   "metadata": {},
   "source": [
    "## First model (using first 1000 rows of dataset)"
   ]
  },
  {
   "cell_type": "code",
   "execution_count": 10,
   "id": "8d6c9e4a-af25-4676-b167-49eb58ae1b89",
   "metadata": {},
   "outputs": [
    {
     "data": {
      "text/plain": [
       "(372874, 46)"
      ]
     },
     "execution_count": 10,
     "metadata": {},
     "output_type": "execute_result"
    }
   ],
   "source": [
    "x_train.shape"
   ]
  },
  {
   "cell_type": "code",
   "execution_count": 31,
   "id": "a2688945-b086-4ba8-a63e-6dc5e548da89",
   "metadata": {},
   "outputs": [],
   "source": [
    "num_partial = 1000\n",
    "x_train_par = x_train[:num_partial]\n",
    "y_train_par = y_train[:num_partial]\n",
    "x_val_par = x_val[:num_partial]\n",
    "y_val_par = y_val[:num_partial]"
   ]
  },
  {
   "cell_type": "code",
   "execution_count": 29,
   "id": "7942078c-d028-4b20-81b2-cfeea9086396",
   "metadata": {},
   "outputs": [],
   "source": [
    "clf1 = SVC(kernel='linear', C=0.5, class_weight='balanced')"
   ]
  },
  {
   "cell_type": "code",
   "execution_count": 30,
   "id": "63846b88-e3f5-4f71-9359-8bddf8a84835",
   "metadata": {},
   "outputs": [
    {
     "data": {
      "text/html": [
       "<style>#sk-container-id-2 {color: black;background-color: white;}#sk-container-id-2 pre{padding: 0;}#sk-container-id-2 div.sk-toggleable {background-color: white;}#sk-container-id-2 label.sk-toggleable__label {cursor: pointer;display: block;width: 100%;margin-bottom: 0;padding: 0.3em;box-sizing: border-box;text-align: center;}#sk-container-id-2 label.sk-toggleable__label-arrow:before {content: \"▸\";float: left;margin-right: 0.25em;color: #696969;}#sk-container-id-2 label.sk-toggleable__label-arrow:hover:before {color: black;}#sk-container-id-2 div.sk-estimator:hover label.sk-toggleable__label-arrow:before {color: black;}#sk-container-id-2 div.sk-toggleable__content {max-height: 0;max-width: 0;overflow: hidden;text-align: left;background-color: #f0f8ff;}#sk-container-id-2 div.sk-toggleable__content pre {margin: 0.2em;color: black;border-radius: 0.25em;background-color: #f0f8ff;}#sk-container-id-2 input.sk-toggleable__control:checked~div.sk-toggleable__content {max-height: 200px;max-width: 100%;overflow: auto;}#sk-container-id-2 input.sk-toggleable__control:checked~label.sk-toggleable__label-arrow:before {content: \"▾\";}#sk-container-id-2 div.sk-estimator input.sk-toggleable__control:checked~label.sk-toggleable__label {background-color: #d4ebff;}#sk-container-id-2 div.sk-label input.sk-toggleable__control:checked~label.sk-toggleable__label {background-color: #d4ebff;}#sk-container-id-2 input.sk-hidden--visually {border: 0;clip: rect(1px 1px 1px 1px);clip: rect(1px, 1px, 1px, 1px);height: 1px;margin: -1px;overflow: hidden;padding: 0;position: absolute;width: 1px;}#sk-container-id-2 div.sk-estimator {font-family: monospace;background-color: #f0f8ff;border: 1px dotted black;border-radius: 0.25em;box-sizing: border-box;margin-bottom: 0.5em;}#sk-container-id-2 div.sk-estimator:hover {background-color: #d4ebff;}#sk-container-id-2 div.sk-parallel-item::after {content: \"\";width: 100%;border-bottom: 1px solid gray;flex-grow: 1;}#sk-container-id-2 div.sk-label:hover label.sk-toggleable__label {background-color: #d4ebff;}#sk-container-id-2 div.sk-serial::before {content: \"\";position: absolute;border-left: 1px solid gray;box-sizing: border-box;top: 0;bottom: 0;left: 50%;z-index: 0;}#sk-container-id-2 div.sk-serial {display: flex;flex-direction: column;align-items: center;background-color: white;padding-right: 0.2em;padding-left: 0.2em;position: relative;}#sk-container-id-2 div.sk-item {position: relative;z-index: 1;}#sk-container-id-2 div.sk-parallel {display: flex;align-items: stretch;justify-content: center;background-color: white;position: relative;}#sk-container-id-2 div.sk-item::before, #sk-container-id-2 div.sk-parallel-item::before {content: \"\";position: absolute;border-left: 1px solid gray;box-sizing: border-box;top: 0;bottom: 0;left: 50%;z-index: -1;}#sk-container-id-2 div.sk-parallel-item {display: flex;flex-direction: column;z-index: 1;position: relative;background-color: white;}#sk-container-id-2 div.sk-parallel-item:first-child::after {align-self: flex-end;width: 50%;}#sk-container-id-2 div.sk-parallel-item:last-child::after {align-self: flex-start;width: 50%;}#sk-container-id-2 div.sk-parallel-item:only-child::after {width: 0;}#sk-container-id-2 div.sk-dashed-wrapped {border: 1px dashed gray;margin: 0 0.4em 0.5em 0.4em;box-sizing: border-box;padding-bottom: 0.4em;background-color: white;}#sk-container-id-2 div.sk-label label {font-family: monospace;font-weight: bold;display: inline-block;line-height: 1.2em;}#sk-container-id-2 div.sk-label-container {text-align: center;}#sk-container-id-2 div.sk-container {/* jupyter's `normalize.less` sets `[hidden] { display: none; }` but bootstrap.min.css set `[hidden] { display: none !important; }` so we also need the `!important` here to be able to override the default hidden behavior on the sphinx rendered scikit-learn.org. See: https://github.com/scikit-learn/scikit-learn/issues/21755 */display: inline-block !important;position: relative;}#sk-container-id-2 div.sk-text-repr-fallback {display: none;}</style><div id=\"sk-container-id-2\" class=\"sk-top-container\"><div class=\"sk-text-repr-fallback\"><pre>SVC(C=0.5, class_weight=&#x27;balanced&#x27;, kernel=&#x27;linear&#x27;)</pre><b>In a Jupyter environment, please rerun this cell to show the HTML representation or trust the notebook. <br />On GitHub, the HTML representation is unable to render, please try loading this page with nbviewer.org.</b></div><div class=\"sk-container\" hidden><div class=\"sk-item\"><div class=\"sk-estimator sk-toggleable\"><input class=\"sk-toggleable__control sk-hidden--visually\" id=\"sk-estimator-id-2\" type=\"checkbox\" checked><label for=\"sk-estimator-id-2\" class=\"sk-toggleable__label sk-toggleable__label-arrow\">SVC</label><div class=\"sk-toggleable__content\"><pre>SVC(C=0.5, class_weight=&#x27;balanced&#x27;, kernel=&#x27;linear&#x27;)</pre></div></div></div></div></div>"
      ],
      "text/plain": [
       "SVC(C=0.5, class_weight='balanced', kernel='linear')"
      ]
     },
     "execution_count": 30,
     "metadata": {},
     "output_type": "execute_result"
    }
   ],
   "source": [
    "clf1.fit(x_train_par, y_train_par)"
   ]
  },
  {
   "cell_type": "code",
   "execution_count": 32,
   "id": "09ce78a7-90ff-41ca-b595-3610c04b5aa2",
   "metadata": {},
   "outputs": [],
   "source": [
    "pred_par = clf1.predict(x_val_par)"
   ]
  },
  {
   "cell_type": "code",
   "execution_count": 33,
   "id": "41c55b90-5fcd-4f98-b47d-d2a3addb02b8",
   "metadata": {},
   "outputs": [
    {
     "name": "stdout",
     "output_type": "stream",
     "text": [
      "              precision    recall  f1-score   support\n",
      "\n",
      "           0       0.97      0.76      0.85       955\n",
      "           1       0.10      0.58      0.17        45\n",
      "\n",
      "    accuracy                           0.75      1000\n",
      "   macro avg       0.54      0.67      0.51      1000\n",
      "weighted avg       0.94      0.75      0.82      1000\n",
      "\n"
     ]
    },
    {
     "data": {
      "text/plain": [
       "Text(0.5, 23.52222222222222, 'Predicted')"
      ]
     },
     "execution_count": 33,
     "metadata": {},
     "output_type": "execute_result"
    },
    {
     "data": {
      "image/png": "[encoded data removed]",
      "text/plain": [
       "<Figure size 640x480 with 2 Axes>"
      ]
     },
     "metadata": {},
     "output_type": "display_data"
    }
   ],
   "source": [
    "# evaluation\n",
    "print(classification_report(y_val_par, pred_par))\n",
    "\n",
    "cnf_matrix = confusion_matrix(y_val_par, pred_par)\n",
    "\n",
    "classes = [0, 1]\n",
    "\n",
    "fig, ax = plt.subplots()\n",
    "tick_marks = np.arange(len(classes))\n",
    "plt.xticks(tick_marks, classes)\n",
    "plt.yticks(tick_marks, classes)\n",
    "sns.heatmap(pd.DataFrame(cnf_matrix), annot=True, cmap='YlGnBu', fmt='g')\n",
    "# ax.xaxis.set_label_position('top')\n",
    "plt.tight_layout()\n",
    "plt.title('Confusion matrix')\n",
    "plt.ylabel('Actual')\n",
    "plt.xlabel('Predicted')"
   ]
  },
  {
   "cell_type": "markdown",
   "id": "02cfbb44-ccf9-4516-9f69-1b8a9b924620",
   "metadata": {},
   "source": [
    "## Grid search for best parameter"
   ]
  },
  {
   "cell_type": "code",
   "execution_count": 37,
   "id": "80dd8153-6184-41c0-b86c-88b4683c523f",
   "metadata": {},
   "outputs": [],
   "source": [
    "# get small row of data to run fast\n",
    "def grid_search(c_val, num_partial):\n",
    "    for x in c_val:\n",
    "        print('Current C value:', x)\n",
    "        clf = SVC(kernel='linear', C=x, class_weight='balanced')\n",
    "\n",
    "        for i in num_partial:\n",
    "            x_train_par = x_train[:i]\n",
    "            y_train_par = y_train[:i]\n",
    "            x_val_par = x_val[:i]\n",
    "            y_val_par = y_val[:i]\n",
    "\n",
    "            print('Training with first {} datasets'.format(i))\n",
    "            clf.fit(x_train_par, y_train_par)\n",
    "            pred = clf.predict(x_val_par)\n",
    "            print(classification_report(y_val_par, pred))\n",
    "            print(confusion_matrix(y_val_par, pred))\n",
    "        \n",
    "        print('============')"
   ]
  },
  {
   "cell_type": "code",
   "execution_count": 38,
   "id": "b9a88851-5dec-4d6c-b77b-83c67025c4d2",
   "metadata": {},
   "outputs": [
    {
     "name": "stdout",
     "output_type": "stream",
     "text": [
      "Current C value: 1\n",
      "Training with first 1000 datasets\n",
      "              precision    recall  f1-score   support\n",
      "\n",
      "           0       0.97      0.76      0.85       955\n",
      "           1       0.09      0.51      0.16        45\n",
      "\n",
      "    accuracy                           0.75      1000\n",
      "   macro avg       0.53      0.64      0.50      1000\n",
      "weighted avg       0.93      0.75      0.82      1000\n",
      "\n",
      "[[728 227]\n",
      " [ 22  23]]\n",
      "Training with first 5000 datasets\n",
      "              precision    recall  f1-score   support\n",
      "\n",
      "           0       0.99      0.62      0.76      4831\n",
      "           1       0.07      0.79      0.12       169\n",
      "\n",
      "    accuracy                           0.62      5000\n",
      "   macro avg       0.53      0.71      0.44      5000\n",
      "weighted avg       0.96      0.62      0.74      5000\n",
      "\n",
      "[[2986 1845]\n",
      " [  35  134]]\n",
      "Training with first 10000 datasets\n",
      "              precision    recall  f1-score   support\n",
      "\n",
      "           0       0.99      0.61      0.75      9639\n",
      "           1       0.07      0.78      0.13       361\n",
      "\n",
      "    accuracy                           0.61     10000\n",
      "   macro avg       0.53      0.69      0.44     10000\n",
      "weighted avg       0.95      0.61      0.73     10000\n",
      "\n",
      "[[5842 3797]\n",
      " [  80  281]]\n",
      "Current C value: 0.7\n",
      "Training with first 1000 datasets\n",
      "              precision    recall  f1-score   support\n",
      "\n",
      "           0       0.97      0.76      0.85       955\n",
      "           1       0.10      0.56      0.17        45\n",
      "\n",
      "    accuracy                           0.75      1000\n",
      "   macro avg       0.54      0.66      0.51      1000\n",
      "weighted avg       0.93      0.75      0.82      1000\n",
      "\n",
      "[[726 229]\n",
      " [ 20  25]]\n",
      "Training with first 5000 datasets\n",
      "              precision    recall  f1-score   support\n",
      "\n",
      "           0       0.99      0.60      0.75      4831\n",
      "           1       0.07      0.81      0.12       169\n",
      "\n",
      "    accuracy                           0.60      5000\n",
      "   macro avg       0.53      0.70      0.43      5000\n",
      "weighted avg       0.96      0.60      0.72      5000\n",
      "\n",
      "[[2887 1944]\n",
      " [  32  137]]\n",
      "Training with first 10000 datasets\n",
      "              precision    recall  f1-score   support\n",
      "\n",
      "           0       0.99      0.59      0.74      9639\n",
      "           1       0.07      0.81      0.13       361\n",
      "\n",
      "    accuracy                           0.59     10000\n",
      "   macro avg       0.53      0.70      0.43     10000\n",
      "weighted avg       0.95      0.59      0.71     10000\n",
      "\n",
      "[[5641 3998]\n",
      " [  68  293]]\n",
      "Current C value: 0.5\n",
      "Training with first 1000 datasets\n",
      "              precision    recall  f1-score   support\n",
      "\n",
      "           0       0.97      0.76      0.85       955\n",
      "           1       0.10      0.58      0.17        45\n",
      "\n",
      "    accuracy                           0.75      1000\n",
      "   macro avg       0.54      0.67      0.51      1000\n",
      "weighted avg       0.94      0.75      0.82      1000\n",
      "\n",
      "[[724 231]\n",
      " [ 19  26]]\n",
      "Training with first 5000 datasets\n",
      "              precision    recall  f1-score   support\n",
      "\n",
      "           0       0.99      0.59      0.74      4831\n",
      "           1       0.07      0.82      0.12       169\n",
      "\n",
      "    accuracy                           0.60      5000\n",
      "   macro avg       0.53      0.70      0.43      5000\n",
      "weighted avg       0.96      0.60      0.72      5000\n",
      "\n",
      "[[2857 1974]\n",
      " [  31  138]]\n",
      "Training with first 10000 datasets\n",
      "              precision    recall  f1-score   support\n",
      "\n",
      "           0       0.99      0.57      0.72      9639\n",
      "           1       0.07      0.82      0.12       361\n",
      "\n",
      "    accuracy                           0.58     10000\n",
      "   macro avg       0.53      0.69      0.42     10000\n",
      "weighted avg       0.96      0.58      0.70     10000\n",
      "\n",
      "[[5467 4172]\n",
      " [  64  297]]\n",
      "Current C value: 0.3\n",
      "Training with first 1000 datasets\n",
      "              precision    recall  f1-score   support\n",
      "\n",
      "           0       0.97      0.75      0.85       955\n",
      "           1       0.10      0.58      0.17        45\n",
      "\n",
      "    accuracy                           0.74      1000\n",
      "   macro avg       0.54      0.67      0.51      1000\n",
      "weighted avg       0.93      0.74      0.82      1000\n",
      "\n",
      "[[719 236]\n",
      " [ 19  26]]\n",
      "Training with first 5000 datasets\n",
      "              precision    recall  f1-score   support\n",
      "\n",
      "           0       0.99      0.59      0.74      4831\n",
      "           1       0.07      0.83      0.12       169\n",
      "\n",
      "    accuracy                           0.59      5000\n",
      "   macro avg       0.53      0.71      0.43      5000\n",
      "weighted avg       0.96      0.59      0.72      5000\n",
      "\n",
      "[[2831 2000]\n",
      " [  29  140]]\n",
      "Training with first 10000 datasets\n",
      "              precision    recall  f1-score   support\n",
      "\n",
      "           0       0.99      0.55      0.71      9639\n",
      "           1       0.07      0.84      0.12       361\n",
      "\n",
      "    accuracy                           0.56     10000\n",
      "   macro avg       0.53      0.70      0.41     10000\n",
      "weighted avg       0.96      0.56      0.69     10000\n",
      "\n",
      "[[5314 4325]\n",
      " [  57  304]]\n"
     ]
    }
   ],
   "source": [
    "grid_search(c_val=[1, 0.7, 0.5, 0.3], num_partial=[1000, 5000, 10000])"
   ]
  },
  {
   "cell_type": "code",
   "execution_count": null,
   "id": "9d5f3f2e-6d78-4854-adca-8ec0245be6e5",
   "metadata": {},
   "outputs": [],
   "source": []
  }
 ],
 "metadata": {
  "kernelspec": {
   "display_name": "Python 3 (ipykernel)",
   "language": "python",
   "name": "python3"
  },
  "language_info": {
   "codemirror_mode": {
    "name": "ipython",
    "version": 3
   },
   "file_extension": ".py",
   "mimetype": "text/x-python",
   "name": "python",
   "nbconvert_exporter": "python",
   "pygments_lexer": "ipython3",
   "version": "3.10.9"
  }
 },
 "nbformat": 4,
 "nbformat_minor": 5
}
